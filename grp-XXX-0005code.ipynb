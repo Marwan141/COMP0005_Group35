{
 "cells": [
  {
   "cell_type": "markdown",
   "metadata": {},
   "source": [
    "# COMP0005 - GROUP COURSEWORK 2023-24\n",
    "# Gesture Recognition via Convex Hull "
   ]
  },
  {
   "cell_type": "markdown",
   "metadata": {},
   "source": [
    "Use the cell below for all python code needed to realise the **Jarvis march algorithm** (including auxiliary data structures and functions needed by this algorithm - if any). The `jarvismarch()` function itself should take as input parameter a list of 2D points (`inputSet`), and return the subset of such points (`outputSet`) that lie on the convex hull."
   ]
  },
  {
   "cell_type": "code",
   "execution_count": 230,
   "metadata": {},
   "outputs": [],
   "source": [
    "import math\n",
    "\n",
    "def jarvismarch(inputSet):\n",
    "\n",
    "        def direction(p1: tuple, p2: tuple, p3: tuple) -> int:\n",
    "                cross_product = (p2[0]-p1[0])*(p3[1]-p2[1]) - (p3[0]-p2[0])*(p2[1]-p1[1])\n",
    "                if cross_product > 0:\n",
    "                        return 1 # counter clockwise\n",
    "                elif cross_product < 0:\n",
    "                        return -1 # clockwise\n",
    "                else: # cross_product == 0\n",
    "                        return 0 # collinear\n",
    "\n",
    "        leftmost = min(inputSet, key=lambda p: (p[1], p[0]))\n",
    "        outputSet = []\n",
    "        outputSet.append(leftmost)\n",
    "        current = leftmost\n",
    "        iterator = 0\n",
    "        while True:\n",
    "                end = inputSet[0]\n",
    "                for point in inputSet:\n",
    "                        if point == current:\n",
    "                                continue\n",
    "              \n",
    "                        numDirection = direction(current, end, point)\n",
    "                        if numDirection == -1:\n",
    "                                end = point\n",
    "                        elif numDirection == 0: \n",
    "                                if math.sqrt((point[0] - current[0])**2 + (point[1] - current[1])**2) > math.sqrt((end[0] - current[0])**2 + (end[1] - current[1])**2): #if the points are colinear, take the one further away from current\n",
    "                                        end = point\n",
    "                iterator += 1\n",
    "                outputSet.append(end)\n",
    "                current = end\n",
    "                if end == outputSet[0]:\n",
    "                        break\n",
    "\n",
    "        return outputSet\n",
    "\n",
    "\n",
    "  "
   ]
  },
  {
   "cell_type": "markdown",
   "metadata": {},
   "source": [
    "Use the cell below for all python code needed to realise the **Graham scan** algorithm (including auxiliary data structures and functions needed by this algorithm - if any). The `grahamscan()` function itself should take as input parameter a list of 2D points (`inputSet`), and return the subset of such points that lie on the convex hull (`outputSet`)."
   ]
  },
  {
   "cell_type": "code",
   "execution_count": 231,
   "metadata": {},
   "outputs": [],
   "source": [
    "def grahamscan(inputSet):\n",
    "    '''\n",
    "    Returns the list of points that lie on the convex hull (graham scan algorithm)\n",
    "            Parameters:\n",
    "                    inputSet (list): a list of 2D points\n",
    "\n",
    "            Returns:\n",
    "                    outputSet (list): a list of 2D points\n",
    "    '''\n",
    "\n",
    "    #ADD YOUR CODE HERE\n",
    "    def calcPolarAngle(point: tuple, origin: tuple):\n",
    "        x, y = point\n",
    "        oX, oY = origin\n",
    "        return math.atan2(y-oY, x-oX)\n",
    "\n",
    "    def calcDist(point: tuple, origin: tuple):\n",
    "        x, y = point\n",
    "        oX, oY = origin\n",
    "        return math.sqrt((y-oY)*(y-oY) + (x-oX)*(x-oX))\n",
    "\n",
    "    def sortByAngle(points: [], origin: tuple):\n",
    "        points.sort(key=lambda point: (calcPolarAngle(point, origin), point[0], -point[1]))\n",
    "\n",
    "    def direction(p1: tuple, p2: tuple, p3: tuple) -> int:\n",
    "        cross_product = ((p2[0]-p1[0])*(p3[1]-p2[1])) - ((p3[0]-p2[0])*(p2[1]-p1[1]))\n",
    "\n",
    "        if cross_product > 0:\n",
    "            return 1 # counter clockwise\n",
    "        elif cross_product < 0:\n",
    "            return -1 # clockwise\n",
    "        else: # cross_product == 0\n",
    "            return 0 # collinear\n",
    "\n",
    "    # Solution begins here\n",
    "    points = inputSet.copy()\n",
    "    \n",
    "    # Empty input\n",
    "    if len(points) < 1:\n",
    "        return []\n",
    "    \n",
    "    p0 = min(points, key=lambda p: (p[1], p[0])) # first point on hull (origin) \n",
    "    \n",
    "    # Sort points\n",
    "    sortByAngle(points, p0)\n",
    "    \n",
    "    outputSet = [] # resulting list to store points on convex hull\n",
    "    for i in range(len(points) + 1):\n",
    "        p = points[i] if i < len(points) else points[0]\n",
    "        while (len(outputSet) >= 2 and                          # < 0: inlcude collinear points\n",
    "               direction(outputSet[-2], outputSet[-1], p) <= 0): # <= 0: don't inlcude collinear points\n",
    "            outputSet.pop()\n",
    "        outputSet.append(p)\n",
    "    \n",
    "    #outputSet.append(p0)\n",
    "    \n",
    "    return outputSet"
   ]
  },
  {
   "cell_type": "markdown",
   "metadata": {},
   "source": [
    "Use the cell below for all python code needed to realise the **Chen's** algorithm (including auxiliary data structures and functions needed by this algorithm - if any). The `chen()` function itself should take as input parameter a list of 2D points (`inputSet`), and return the subset of such points that lie on the convex hull (`outputSet`)."
   ]
  },
  {
   "cell_type": "code",
   "execution_count": 232,
   "metadata": {},
   "outputs": [],
   "source": [
    "def chen(inputSet):\n",
    "    '''\n",
    "    Returns the list of points that lie on the convex hull (chen's algorithm)\n",
    "            Parameters:\n",
    "                    inputSet (list): a list of 2D points\n",
    "\n",
    "            Returns:\n",
    "                    outputSet (list): a list of 2D points\n",
    "    '''\n",
    "    m = 3 # The initial m value determines how many parts of the set of input points will be processed\n",
    "    \n",
    "    startPoint = min(inputSet)\n",
    "    def divide_points(m,inputSet): # Group the set of input points according to m, and apply Graham scanning algorithm to each group\n",
    "        points = []\n",
    "        for i in range(len(inputSet)//m):\n",
    "            points.append(grahamscan(inputSet[i*m:(i+1)*m]))\n",
    "       \n",
    "        return points\n",
    "            \n",
    "    while True:\n",
    "        divided_points = divide_points(m,inputSet)\n",
    "        outputSet = []\n",
    "        for i in divided_points:\n",
    "            outputSet.append(jarvismarch(i))  # Compute the convex hull of the current point set using the Jarvis step method\n",
    "            if outputSet[-1] == startPoint:    # If the last point of the convex hull is the starting point, the complete convex hull has been found, ending the loop\n",
    "                return outputSet\n",
    "            else:\n",
    "                m = m*m     # If no complete convex hull is found, the value of m is increased to reduce the number of groups, and the value of m is squared by itself each time\n",
    "    return outputSet\n",
    "   "
   ]
  },
  {
   "cell_type": "markdown",
   "metadata": {},
   "source": [
    "Use the cell below to implement the **synthetic data generator** needed by your experimental framework (including any auxiliary data structures and functions you might need - be mindful of code readability and reusability)."
   ]
  },
  {
   "cell_type": "code",
   "execution_count": 233,
   "metadata": {},
   "outputs": [],
   "source": [
    "import matplotlib.pyplot as plt\n",
    "import random\n",
    "\n",
    "class TestDataGenerator():\n",
    "    \"\"\"\n",
    "    A class to represent a synthetic data generator.\n",
    "    \"\"\"\n",
    "\n",
    "    def __init__(self):\n",
    "        pass\n",
    "        \n",
    "    def data_generation(self,n):\n",
    "        inputSet = []\n",
    "        for i in range (n):\n",
    "            inputSet.append((random.randint(0,100),random.randint(0,100)))\n",
    "        return inputSet\n",
    "    \n",
    "    def huge_convex_point(self,h):\n",
    "        inputSet = []\n",
    "        interval = 100/h\n",
    "        y=0\n",
    "        for i in range(h):\n",
    "            inputSet.append((y,math.sqrt(-(y-50)**2+2500)+50))\n",
    "            inputSet.append((y,-math.sqrt(-(y-50)**2+2500)+50))\n",
    "            y = y + interval\n",
    "        return inputSet"
   ]
  },
  {
   "cell_type": "markdown",
   "metadata": {},
   "source": [
    "Use the cell below to implement the requested **experimental framework** API."
   ]
  },
  {
   "cell_type": "code",
   "execution_count": 234,
   "metadata": {},
   "outputs": [],
   "source": [
    "import timeit\n",
    "import matplotlib\n",
    "\n",
    "class ExperimentalFramework():\n",
    "    \"\"\"\n",
    "    A class to represent an experimental framework.\n",
    "    \"\"\"\n",
    "    def display_convex_hull(self, inputSet, outputSet):\n",
    "        x = [point[0] for point in outputSet]\n",
    "        y = [point[1] for point in outputSet]\n",
    "        notx = [point[0] for point in inputSet]\n",
    "        noty = [point[1] for point in inputSet]\n",
    "        plt.plot(x, y, marker='o', linestyle='-', color='r')\n",
    "        plt.scatter(notx, noty, marker='o', linestyle='-')\n",
    "        plt.xlabel('X-axis')\n",
    "        plt.ylabel('Y-axis')\n",
    "        plt.title('Plot of the Convex Points')\n",
    "        plt.grid(True)\n",
    "        plt.show()\n",
    "\n",
    "    def __init__(self):\n",
    "        #jarvis-march algorithm\n",
    "        self.jarvis = TestDataGenerator()\n",
    "        self.jarvis_inputSet = self.jarvis.data_generation(500)\n",
    "        jarvis_time = timeit.timeit(lambda: jarvismarch(self.jarvis_inputSet), number=10) #repeat 10 times and take avg\n",
    "        print(jarvis_time)\n",
    "        self.jarvis_outputSet = jarvismarch(self.jarvis_inputSet)\n",
    "        #graham-scan algorithm\n",
    "        self.graham = TestDataGenerator()\n",
    "        self.graham_inputSet = self.jarvis_inputSet\n",
    "        graham_time = timeit.timeit(lambda: grahamscan(self.graham_inputSet), number=10)\n",
    "        print(graham_time)\n",
    "        self.graham_outputSet = grahamscan(self.graham_inputSet)\n",
    "        #chen-algo algorithm\n",
    "        self.chen = TestDataGenerator()\n",
    "        self.chen_inputSet = self.jarvis_inputSet\n",
    "        chen_time = timeit.timeit(lambda: chen(self.chen_inputSet), number=10)\n",
    "        print(chen_time)\n",
    "        self.chen_outputSet = chen(self.chen_inputSet)"
   ]
  },
  {
   "cell_type": "markdown",
   "metadata": {},
   "source": [
    "Use the cell below to illustrate the python code you used to **fully evaluate** the three convex hull algortihms under considerations. The code below should illustrate, for example, how you made used of the **TestDataGenerator** class to generate test data of various size and properties; how you instatiated the **ExperimentalFramework** class to  evaluate each algorithm using such data, collect information about their execution time, plots results, etc. Any results you illustrate in the companion PDF report should have been generated using the code below."
   ]
  },
  {
   "cell_type": "code",
   "execution_count": 235,
   "metadata": {},
   "outputs": [
    {
     "name": "stdout",
     "output_type": "stream",
     "text": [
      "0.012476834002882242\n",
      "0.003978207998443395\n"
     ]
    },
    {
     "ename": "KeyboardInterrupt",
     "evalue": "",
     "output_type": "error",
     "traceback": [
      "\u001b[0;31m---------------------------------------------------------------------------\u001b[0m",
      "\u001b[0;31mKeyboardInterrupt\u001b[0m                         Traceback (most recent call last)",
      "Cell \u001b[0;32mIn[235], line 2\u001b[0m\n\u001b[1;32m      1\u001b[0m \u001b[38;5;66;03m# ADD YOUR TEST CODE HERE \u001b[39;00m\n\u001b[0;32m----> 2\u001b[0m framework \u001b[38;5;241m=\u001b[39m \u001b[43mExperimentalFramework\u001b[49m\u001b[43m(\u001b[49m\u001b[43m)\u001b[49m\n\u001b[1;32m      3\u001b[0m framework\u001b[38;5;241m.\u001b[39mdisplay_convex_hull(framework\u001b[38;5;241m.\u001b[39mjarvis_inputSet, framework\u001b[38;5;241m.\u001b[39mjarvis_outputSet)\n\u001b[1;32m      4\u001b[0m framework\u001b[38;5;241m.\u001b[39mdisplay_convex_hull(framework\u001b[38;5;241m.\u001b[39mgraham_inputSet, framework\u001b[38;5;241m.\u001b[39mgraham_outputSet)\n",
      "Cell \u001b[0;32mIn[234], line 37\u001b[0m, in \u001b[0;36mExperimentalFramework.__init__\u001b[0;34m(self)\u001b[0m\n\u001b[1;32m     35\u001b[0m \u001b[38;5;28mself\u001b[39m\u001b[38;5;241m.\u001b[39mchen \u001b[38;5;241m=\u001b[39m TestDataGenerator()\n\u001b[1;32m     36\u001b[0m \u001b[38;5;28mself\u001b[39m\u001b[38;5;241m.\u001b[39mchen_inputSet \u001b[38;5;241m=\u001b[39m \u001b[38;5;28mself\u001b[39m\u001b[38;5;241m.\u001b[39mjarvis_inputSet\n\u001b[0;32m---> 37\u001b[0m chen_time \u001b[38;5;241m=\u001b[39m \u001b[43mtimeit\u001b[49m\u001b[38;5;241;43m.\u001b[39;49m\u001b[43mtimeit\u001b[49m\u001b[43m(\u001b[49m\u001b[38;5;28;43;01mlambda\u001b[39;49;00m\u001b[43m:\u001b[49m\u001b[43m \u001b[49m\u001b[43mchen\u001b[49m\u001b[43m(\u001b[49m\u001b[38;5;28;43mself\u001b[39;49m\u001b[38;5;241;43m.\u001b[39;49m\u001b[43mchen_inputSet\u001b[49m\u001b[43m)\u001b[49m\u001b[43m,\u001b[49m\u001b[43m \u001b[49m\u001b[43mnumber\u001b[49m\u001b[38;5;241;43m=\u001b[39;49m\u001b[38;5;241;43m10\u001b[39;49m\u001b[43m)\u001b[49m\n\u001b[1;32m     38\u001b[0m \u001b[38;5;28mprint\u001b[39m(chen_time)\n\u001b[1;32m     39\u001b[0m \u001b[38;5;28mself\u001b[39m\u001b[38;5;241m.\u001b[39mchen_outputSet \u001b[38;5;241m=\u001b[39m chen(\u001b[38;5;28mself\u001b[39m\u001b[38;5;241m.\u001b[39mchen_inputSet)\n",
      "File \u001b[0;32m/opt/homebrew/Cellar/python@3.11/3.11.6_1/Frameworks/Python.framework/Versions/3.11/lib/python3.11/timeit.py:237\u001b[0m, in \u001b[0;36mtimeit\u001b[0;34m(stmt, setup, timer, number, globals)\u001b[0m\n\u001b[1;32m    234\u001b[0m \u001b[38;5;28;01mdef\u001b[39;00m \u001b[38;5;21mtimeit\u001b[39m(stmt\u001b[38;5;241m=\u001b[39m\u001b[38;5;124m\"\u001b[39m\u001b[38;5;124mpass\u001b[39m\u001b[38;5;124m\"\u001b[39m, setup\u001b[38;5;241m=\u001b[39m\u001b[38;5;124m\"\u001b[39m\u001b[38;5;124mpass\u001b[39m\u001b[38;5;124m\"\u001b[39m, timer\u001b[38;5;241m=\u001b[39mdefault_timer,\n\u001b[1;32m    235\u001b[0m            number\u001b[38;5;241m=\u001b[39mdefault_number, \u001b[38;5;28mglobals\u001b[39m\u001b[38;5;241m=\u001b[39m\u001b[38;5;28;01mNone\u001b[39;00m):\n\u001b[1;32m    236\u001b[0m \u001b[38;5;250m    \u001b[39m\u001b[38;5;124;03m\"\"\"Convenience function to create Timer object and call timeit method.\"\"\"\u001b[39;00m\n\u001b[0;32m--> 237\u001b[0m     \u001b[38;5;28;01mreturn\u001b[39;00m \u001b[43mTimer\u001b[49m\u001b[43m(\u001b[49m\u001b[43mstmt\u001b[49m\u001b[43m,\u001b[49m\u001b[43m \u001b[49m\u001b[43msetup\u001b[49m\u001b[43m,\u001b[49m\u001b[43m \u001b[49m\u001b[43mtimer\u001b[49m\u001b[43m,\u001b[49m\u001b[43m \u001b[49m\u001b[38;5;28;43mglobals\u001b[39;49m\u001b[43m)\u001b[49m\u001b[38;5;241;43m.\u001b[39;49m\u001b[43mtimeit\u001b[49m\u001b[43m(\u001b[49m\u001b[43mnumber\u001b[49m\u001b[43m)\u001b[49m\n",
      "File \u001b[0;32m/opt/homebrew/Cellar/python@3.11/3.11.6_1/Frameworks/Python.framework/Versions/3.11/lib/python3.11/timeit.py:180\u001b[0m, in \u001b[0;36mTimer.timeit\u001b[0;34m(self, number)\u001b[0m\n\u001b[1;32m    178\u001b[0m gc\u001b[38;5;241m.\u001b[39mdisable()\n\u001b[1;32m    179\u001b[0m \u001b[38;5;28;01mtry\u001b[39;00m:\n\u001b[0;32m--> 180\u001b[0m     timing \u001b[38;5;241m=\u001b[39m \u001b[38;5;28;43mself\u001b[39;49m\u001b[38;5;241;43m.\u001b[39;49m\u001b[43minner\u001b[49m\u001b[43m(\u001b[49m\u001b[43mit\u001b[49m\u001b[43m,\u001b[49m\u001b[43m \u001b[49m\u001b[38;5;28;43mself\u001b[39;49m\u001b[38;5;241;43m.\u001b[39;49m\u001b[43mtimer\u001b[49m\u001b[43m)\u001b[49m\n\u001b[1;32m    181\u001b[0m \u001b[38;5;28;01mfinally\u001b[39;00m:\n\u001b[1;32m    182\u001b[0m     \u001b[38;5;28;01mif\u001b[39;00m gcold:\n",
      "File \u001b[0;32m<timeit-src>:6\u001b[0m, in \u001b[0;36minner\u001b[0;34m(_it, _timer, _stmt)\u001b[0m\n",
      "Cell \u001b[0;32mIn[234], line 37\u001b[0m, in \u001b[0;36mExperimentalFramework.__init__.<locals>.<lambda>\u001b[0;34m()\u001b[0m\n\u001b[1;32m     35\u001b[0m \u001b[38;5;28mself\u001b[39m\u001b[38;5;241m.\u001b[39mchen \u001b[38;5;241m=\u001b[39m TestDataGenerator()\n\u001b[1;32m     36\u001b[0m \u001b[38;5;28mself\u001b[39m\u001b[38;5;241m.\u001b[39mchen_inputSet \u001b[38;5;241m=\u001b[39m \u001b[38;5;28mself\u001b[39m\u001b[38;5;241m.\u001b[39mjarvis_inputSet\n\u001b[0;32m---> 37\u001b[0m chen_time \u001b[38;5;241m=\u001b[39m timeit\u001b[38;5;241m.\u001b[39mtimeit(\u001b[38;5;28;01mlambda\u001b[39;00m: \u001b[43mchen\u001b[49m\u001b[43m(\u001b[49m\u001b[38;5;28;43mself\u001b[39;49m\u001b[38;5;241;43m.\u001b[39;49m\u001b[43mchen_inputSet\u001b[49m\u001b[43m)\u001b[49m, number\u001b[38;5;241m=\u001b[39m\u001b[38;5;241m10\u001b[39m)\n\u001b[1;32m     38\u001b[0m \u001b[38;5;28mprint\u001b[39m(chen_time)\n\u001b[1;32m     39\u001b[0m \u001b[38;5;28mself\u001b[39m\u001b[38;5;241m.\u001b[39mchen_outputSet \u001b[38;5;241m=\u001b[39m chen(\u001b[38;5;28mself\u001b[39m\u001b[38;5;241m.\u001b[39mchen_inputSet)\n",
      "Cell \u001b[0;32mIn[232], line 29\u001b[0m, in \u001b[0;36mchen\u001b[0;34m(inputSet)\u001b[0m\n\u001b[1;32m     27\u001b[0m             \u001b[38;5;28;01mreturn\u001b[39;00m outputSet\n\u001b[1;32m     28\u001b[0m         \u001b[38;5;28;01melse\u001b[39;00m:\n\u001b[0;32m---> 29\u001b[0m             m \u001b[38;5;241m=\u001b[39m \u001b[43mm\u001b[49m\u001b[38;5;241;43m*\u001b[39;49m\u001b[43mm\u001b[49m     \u001b[38;5;66;03m# If no complete convex hull is found, the value of m is increased to reduce the number of groups, and the value of m is squared by itself each time\u001b[39;00m\n\u001b[1;32m     30\u001b[0m \u001b[38;5;28;01mreturn\u001b[39;00m outputSet\n",
      "\u001b[0;31mKeyboardInterrupt\u001b[0m: "
     ]
    }
   ],
   "source": [
    "# ADD YOUR TEST CODE HERE \n",
    "framework = ExperimentalFramework()\n",
    "framework.display_convex_hull(framework.jarvis_inputSet, framework.jarvis_outputSet)\n",
    "framework.display_convex_hull(framework.graham_inputSet, framework.graham_outputSet)\n",
    "framework.display_convex_hull(framework.chen_inputSet, framework.chen_outputSet)\n",
    "\n",
    "\n"
   ]
  }
 ],
 "metadata": {
  "kernelspec": {
   "display_name": "Python 3",
   "language": "python",
   "name": "python3"
  },
  "language_info": {
   "codemirror_mode": {
    "name": "ipython",
    "version": 3
   },
   "file_extension": ".py",
   "mimetype": "text/x-python",
   "name": "python",
   "nbconvert_exporter": "python",
   "pygments_lexer": "ipython3",
   "version": "3.11.6"
  }
 },
 "nbformat": 4,
 "nbformat_minor": 4
}
